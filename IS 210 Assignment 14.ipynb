{
 "cells": [
  {
   "cell_type": "code",
   "execution_count": 12,
   "metadata": {},
   "outputs": [
    {
     "name": "stdout",
     "output_type": "stream",
     "text": [
      "{'Pink Lemon': 1.49, 'Lemon': 7.6, 'Red Plum': 14.950000000000001}\n",
      "Total Cost :  24.04\n"
     ]
    }
   ],
   "source": [
    "\"\"\"Task 02\"\"\"\n",
    "from data import FRUIT\n",
    "\n",
    "# get_cost_per_item(dict) -> dict\n",
    "\n",
    "\n",
    "def get_cost_per_item(shoplist):\n",
    "    new_dict = {}\n",
    "    new_dict = {key:FRUIT[key]*value for key,value in shoplist.items() if key in FRUIT.keys()}\n",
    "    return(new_dict)\n",
    "\n",
    "\"\"\"Equivalent Code\n",
    "def get_cost_per_item_full(shoplist):\n",
    "    new_dict = {}\n",
    "    for key,value in shoplist.items():\n",
    "        if key in FRUIT.keys():\n",
    "            new_dict[key] = FRUIT[key] * value\n",
    "    return new_dict\n",
    "\"\"\"\n",
    "# get_cost_total_cost(dict) -> float\n",
    "\n",
    "def get_total_cost(shoplist):\n",
    "    new_dict = get_cost_per_item(shoplist)\n",
    "    total = sum(new_dict.values())\n",
    "    return total\n",
    "\n",
    "#function call - Test\n",
    "print(get_cost_per_item({'Pink Lemon': 1,'Orangeyyy':3,'Lemon':8,'Red Plum':5}))\n",
    "print(\"Total Cost : \",get_total_cost({'Pink Lemon': 1,'Lemon':8,'Red Plum':5}))"
   ]
  },
  {
   "cell_type": "code",
   "execution_count": 62,
   "metadata": {},
   "outputs": [
    {
     "name": "stdout",
     "output_type": "stream",
     "text": [
      "Dog's color :  red\n",
      "5\n",
      "Amenda\n",
      "My Dog is red, weighs 23 pounds\n"
     ]
    }
   ],
   "source": [
    "\"\"\"Task 01\"\"\"\n",
    "\n",
    "from pet import Pet\n",
    "\n",
    "#A subclass called Dog\n",
    "class Dog(Pet):\n",
    "    def __init__(self,has_shots = False,**arb_dictionary):\n",
    "            self.has_shots = has_shots\n",
    "            super(Dog,self).__init__(**arb_dictionary)\n",
    "    \n",
    "    def info_print(self):\n",
    "        print(\"My Dog is {}, weighs {} pounds\".format(myDog.color,myDog.weight))\n",
    "        \n",
    "#Test to see if assigned \n",
    "if __name__ == '__main__':\n",
    "    myDog = Dog(has_shots = True,color='red',birthyear=2015,weight=23,length=2,owner='Amenda')\n",
    "    myPet = Pet(1995,23,5,'black')\n",
    "    \n",
    "print(\"Dog's color : \",myDog.color)\n",
    "print(myDog.age)\n",
    "print(myDog.owner)\n",
    "myDog.info_print()\n"
   ]
  },
  {
   "cell_type": "code",
   "execution_count": null,
   "metadata": {},
   "outputs": [],
   "source": []
  },
  {
   "cell_type": "code",
   "execution_count": null,
   "metadata": {},
   "outputs": [],
   "source": []
  },
  {
   "cell_type": "code",
   "execution_count": null,
   "metadata": {},
   "outputs": [],
   "source": []
  },
  {
   "cell_type": "code",
   "execution_count": null,
   "metadata": {},
   "outputs": [],
   "source": []
  }
 ],
 "metadata": {
  "kernelspec": {
   "display_name": "Python 3",
   "language": "python",
   "name": "python3"
  },
  "language_info": {
   "codemirror_mode": {
    "name": "ipython",
    "version": 3
   },
   "file_extension": ".py",
   "mimetype": "text/x-python",
   "name": "python",
   "nbconvert_exporter": "python",
   "pygments_lexer": "ipython3",
   "version": "3.7.4"
  }
 },
 "nbformat": 4,
 "nbformat_minor": 2
}
