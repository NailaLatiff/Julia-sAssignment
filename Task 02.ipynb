{
 "cells": [
  {
   "cell_type": "code",
   "execution_count": 102,
   "metadata": {},
   "outputs": [
    {
     "name": "stdout",
     "output_type": "stream",
     "text": [
      "{'Black Plum': 2.99, 'Red Plum': 2.99, 'Grenade Pluot': 1.99, 'Organic Black Plum': 3.49, 'Peach': 3.99, 'White Peach': 3.99, 'Organic Peach': 4.99, 'Anjou Pears': 1.99, 'Organic Anjou Pears': 3.49, 'Bartlett Pears': 1.99, 'Organic Bartlett Pears': 3.39, 'Bosc Pear': 1.99, 'Organic Bosc Pear': 1.99, 'Comice Pear': 2.49, 'Forelle Pear': 2.99, 'Red Pear': 2.49, 'Asian Pear': 2.99, 'Local Asian Pear': 1.99, 'Seckel Pear': 1.99, 'Concord Grapes': 4.99, 'Green Seedless Grapes': 3.99, 'Red Seedless Grapes': 3.49, 'Strawberries': 3.99, 'Raspberries': 3.99, 'Blackberries': 4.49, 'Blueberries': 3.99, 'Cape Gooseberries': 4.99, 'Navel Orange': 1.49, 'Organic Navel Orange': 1.69, 'Pink Grapefruit': 1.29, 'Key Lime': 3.99, 'Lime': 0.59, 'Meyer Lemon': 3.99, 'Lemon': 0.95, 'Pink Lemon': 1.49, 'Citriburst Finger Lime': 5.99, 'Clementine Orange': 5.99, 'Fuji Apple': 2.21, 'Granny Smith Apple': 1.99, 'Organic Gala Apple': 3.44, 'Organic Granny Smith Apple': 3.5, 'Organic Honeycrisp Apple': 3.64, 'Cortland Apple': 2.0, 'Gala Apple': 2.18, 'Gold Supreme Apple': 2.1, 'Honeycrisp Apple': 2.98, 'McIntosh Apple': 1.81, 'Zestar Apple': 3.99, 'Yellow Banana': 0.88, 'Yellow Plantain': 0.99, 'Green Plantain': 0.99}\n"
     ]
    }
   ],
   "source": [
    "from data import FRUIT\n",
    "print(FRUIT)"
   ]
  },
  {
   "cell_type": "code",
   "execution_count": 91,
   "metadata": {},
   "outputs": [],
   "source": [
    "def get_cost_per_item_full(shoplist):\n",
    "    new_dict = {}\n",
    "    for key,value in shoplist.items():\n",
    "        if key in FRUIT.keys():\n",
    "            new_dict[key] = FRUIT[key]*value\n",
    "    return new_dict\n",
    "    \n",
    "\n"
   ]
  },
  {
   "cell_type": "code",
   "execution_count": 92,
   "metadata": {},
   "outputs": [
    {
     "data": {
      "text/plain": [
       "{'Pink Lemon': 1.49, 'Lemon': 7.6}"
      ]
     },
     "execution_count": 92,
     "metadata": {},
     "output_type": "execute_result"
    }
   ],
   "source": [
    "get_cost_per_item_full({'Pink Lemon': 1,'Lemon':8})"
   ]
  },
  {
   "cell_type": "code",
   "execution_count": 95,
   "metadata": {},
   "outputs": [],
   "source": [
    "def get_cost_per_item(shoplist):\n",
    "    new_dict = {}\n",
    "    new_dict = {key:FRUIT[key]*value for key,value in shoplist.items() if key in FRUIT.keys()}\n",
    "    return(new_dict)"
   ]
  },
  {
   "cell_type": "code",
   "execution_count": 96,
   "metadata": {},
   "outputs": [
    {
     "data": {
      "text/plain": [
       "{'Pink Lemon': 1.49, 'Lemon': 7.6}"
      ]
     },
     "execution_count": 96,
     "metadata": {},
     "output_type": "execute_result"
    }
   ],
   "source": [
    "get_cost_per_item({'Pink Lemon': 1,'Lemon':8})"
   ]
  },
  {
   "cell_type": "code",
   "execution_count": 101,
   "metadata": {},
   "outputs": [
    {
     "data": {
      "text/plain": [
       "9.09"
      ]
     },
     "execution_count": 101,
     "metadata": {},
     "output_type": "execute_result"
    }
   ],
   "source": [
    "def get_total_cost(shoplist):\n",
    "    new_dict = get_cost_per_item(shoplist)\n",
    "    total = sum(new_dict.values())\n",
    "    return total\n",
    "get_total_cost({'Pink Lemon': 1,'Lemon':8})\n",
    "    "
   ]
  },
  {
   "cell_type": "code",
   "execution_count": null,
   "metadata": {},
   "outputs": [],
   "source": []
  }
 ],
 "metadata": {
  "kernelspec": {
   "display_name": "Python 3",
   "language": "python",
   "name": "python3"
  },
  "language_info": {
   "codemirror_mode": {
    "name": "ipython",
    "version": 3
   },
   "file_extension": ".py",
   "mimetype": "text/x-python",
   "name": "python",
   "nbconvert_exporter": "python",
   "pygments_lexer": "ipython3",
   "version": "3.7.4"
  }
 },
 "nbformat": 4,
 "nbformat_minor": 2
}
